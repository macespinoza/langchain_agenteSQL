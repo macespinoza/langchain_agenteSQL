{
  "nbformat": 4,
  "nbformat_minor": 0,
  "metadata": {
    "colab": {
      "provenance": []
    },
    "kernelspec": {
      "name": "python3",
      "display_name": "Python 3"
    },
    "language_info": {
      "name": "python"
    }
  },
  "cells": [
    {
      "cell_type": "code",
      "execution_count": 1,
      "metadata": {
        "id": "8ksAfZg85O44"
      },
      "outputs": [],
      "source": [
        "#importamos una libreria de limpieza de logs\n",
        "from IPython.display import clear_output"
      ]
    },
    {
      "cell_type": "code",
      "source": [
        "#instalamos las librerias de Langchain y sql\n",
        "!pip install langgraph langchain langchain_openai langchain_experimental\n",
        "!pip install mysql-connector-python\n",
        "clear_output()"
      ],
      "metadata": {
        "id": "GFNfvsqM5Tin"
      },
      "execution_count": 2,
      "outputs": []
    },
    {
      "cell_type": "code",
      "source": [
        "#importamos las librerias\n",
        "import os\n",
        "from langchain_experimental.tools import PythonREPLTool\n",
        "from langchain_community.agent_toolkits import SQLDatabaseToolkit\n",
        "from langchain_community.utilities.sql_database import SQLDatabase\n",
        "from langchain_core.prompts import ChatPromptTemplate, MessagesPlaceholder\n",
        "from langchain.agents import AgentExecutor, create_openai_tools_agent\n",
        "from langchain_openai import ChatOpenAI"
      ],
      "metadata": {
        "id": "hP4tU1sO5V2r"
      },
      "execution_count": 3,
      "outputs": []
    },
    {
      "cell_type": "code",
      "source": [
        "## importamos los credenciales para la API de OPENAI y conexion de BD\n",
        "with open(\"/content/api_key.txt\") as archivo:\n",
        "  apikey = archivo.read()\n",
        "  os.environ[\"OPENAI_API_KEY\"] =apikey #asignamos en la variable global la credencial\n",
        "\n",
        "with open(\"/content/string_bd.txt\") as archivo:\n",
        "  uribd = archivo.readline()"
      ],
      "metadata": {
        "id": "kwsnTXGo5oR4"
      },
      "execution_count": 5,
      "outputs": []
    },
    {
      "cell_type": "code",
      "source": [
        "#Creamos la conexion a la base de datos\n",
        "db_data = SQLDatabase.from_uri(uribd)"
      ],
      "metadata": {
        "id": "bdJTQdwY5vWi"
      },
      "execution_count": 6,
      "outputs": []
    },
    {
      "cell_type": "code",
      "source": [
        "# Herramienta Para ejecutar codigo Python\n",
        "python_repl_tool = PythonREPLTool() #Cuidado este metodo puede ejecutar codigo python de manera indiscrminada\n",
        "# Herramienta BD\n",
        "toolkit_bd = SQLDatabaseToolkit(db=db_data,llm=ChatOpenAI(temperature=0))\n",
        "tools_bd = toolkit_bd.get_tools()"
      ],
      "metadata": {
        "id": "o_WWZlD353IZ"
      },
      "execution_count": 7,
      "outputs": []
    },
    {
      "cell_type": "code",
      "source": [
        "#Creamos nuestro Toolkit con las herramientas anteriores\n",
        "tools = [python_repl_tool] + tools_bd"
      ],
      "metadata": {
        "id": "_oXLANia6Atm"
      },
      "execution_count": 8,
      "outputs": []
    },
    {
      "cell_type": "code",
      "source": [
        "## construimos el nucleo del prompt del agente en el cual indicamos su comportamiento\n",
        "prompt_template = ChatPromptTemplate.from_messages([\n",
        "    (\"system\",\n",
        "     \"\"\"\n",
        "     Eres un sistema de consulta de base de datos y análisis de datos. Puedes ejecutar consultas SQL en la base de datos proporcionada para obtener datos reales y generar gráficos basados en esos datos.\n",
        "     Utiliza la herramienta de Python para crear gráficos con Matplotlib.\"\"\"\n",
        "    ),\n",
        "    MessagesPlaceholder(\"chat_history\", optional=True),\n",
        "    (\"human\", \"{input}\"),\n",
        "    MessagesPlaceholder(\"agent_scratchpad\"),\n",
        "])"
      ],
      "metadata": {
        "id": "TTwmIZeU6IiU"
      },
      "execution_count": 9,
      "outputs": []
    },
    {
      "cell_type": "code",
      "source": [
        "#inicializamos el modelo\n",
        "llm = ChatOpenAI() #No es ncesario colocar las credenciales ya que se tiene en la variable global"
      ],
      "metadata": {
        "id": "ijSpNUEu6gBM"
      },
      "execution_count": 10,
      "outputs": []
    },
    {
      "cell_type": "code",
      "source": [
        "#construimos el agente\n",
        "agent = create_openai_tools_agent(llm, tools, prompt_template)"
      ],
      "metadata": {
        "id": "IGScO7Q86UGD"
      },
      "execution_count": 11,
      "outputs": []
    },
    {
      "cell_type": "code",
      "source": [
        "#Creamos el ejecutor y limitamos las interacciones\n",
        "#para ver el comportamiento interno podemos agregar \"verbose=True\"\n",
        "agent_executor = AgentExecutor(agent=agent, tools=tools, max_iterations=10)"
      ],
      "metadata": {
        "id": "DZb6z1GU6Xu4"
      },
      "execution_count": 12,
      "outputs": []
    },
    {
      "cell_type": "code",
      "source": [
        "# Realizamos la consulta\n",
        "#consulta = \"\"\"\n",
        "#Grafica un reporte en forma de torta del top 3 de cliente con mas ventas en el 2003 en mi base de datos\n",
        "#\"\"\"\n",
        "\n",
        "# Realizamos la consulta colocando un tamaño mas pequeño para mejorar la visibilidad\n",
        "consulta = \"\"\"\n",
        "Grafica un reporte en forma de torta del top 3 de cliente con mas ventas en el 2003 en mi base de datos con tamaño 4\n",
        "\"\"\"\n",
        "#Realizamos la invocacion\n",
        "result = agent_executor.invoke({\"input\": consulta})\n",
        "print(result['output'])"
      ],
      "metadata": {
        "colab": {
          "base_uri": "https://localhost:8080/",
          "height": 404
        },
        "id": "7VD8fA4y6ovD",
        "outputId": "5248223f-f54e-4e15-be56-b9f86044533b"
      },
      "execution_count": 15,
      "outputs": [
        {
          "output_type": "display_data",
          "data": {
            "text/plain": [
              "<Figure size 400x400 with 1 Axes>"
            ],
            "image/png": "[encoded data removed]"
          },
          "metadata": {}
        },
        {
          "output_type": "stream",
          "name": "stdout",
          "text": [
            "Se ha generado un gráfico de pastel que muestra el top 3 de clientes con más ventas en el año 2003 en tu base de datos. Puedes ver la distribución de ventas entre los clientes Euro+ Shopping Channel, Mini Gifts Distributors Ltd. y Dragon Souveniers, Ltd.\n"
          ]
        }
      ]
    },
    {
      "cell_type": "code",
      "source": [],
      "metadata": {
        "id": "44JxRxjL69Tc"
      },
      "execution_count": null,
      "outputs": []
    }
  ]
}